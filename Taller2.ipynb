{
 "cells": [
  {
   "cell_type": "markdown",
   "id": "cee2befd",
   "metadata": {},
   "source": [
    "# Taller 02 cálculo de raices\n",
    "##### Nombre: David Alejandro Díaz Pineda\n"
   ]
  },
  {
   "cell_type": "markdown",
   "id": "4f1c79a2",
   "metadata": {},
   "source": [
    "## 1) Encuentre todas las raíces del polinomio \n",
    "$$x^4 + 540x^3 +109124x^2 + 9781632x + 328188672 = 0$$"
   ]
  },
  {
   "cell_type": "code",
   "execution_count": 38,
   "id": "b75f6f65",
   "metadata": {},
   "outputs": [],
   "source": [
    "import matplotlib.pyplot as plt\n",
    "import numpy as np\n",
    "from scipy.optimize import newton, bisect"
   ]
  },
  {
   "cell_type": "markdown",
   "id": "de9ef789",
   "metadata": {},
   "source": [
    "Para el método de Newton necesitamos tanto la función como su derivada"
   ]
  },
  {
   "cell_type": "code",
   "execution_count": 39,
   "id": "9b514164",
   "metadata": {},
   "outputs": [],
   "source": [
    "def f(x):\n",
    "    return x**4 + 540*x**3 + 109124*x**2 + 9781632*x + 328188672  \n",
    "\n",
    "def fprime(x):\n",
    "    return 4*x**3 + 1620*x**2 + 218248*x + 9781632"
   ]
  },
  {
   "cell_type": "markdown",
   "id": "f448724b",
   "metadata": {},
   "source": [
    "Definimos estimaciones para encontrar hasta un máximo de 4 raíces e iteramos el método de newton con todas estas estimaciones para encontrar las raíces"
   ]
  },
  {
   "cell_type": "code",
   "execution_count": 45,
   "id": "dad8946e",
   "metadata": {},
   "outputs": [
    {
     "name": "stdout",
     "output_type": "stream",
     "text": [
      "Raíz cerca de -200: -152.0\n",
      "Raíz cerca de -140: -136.0\n",
      "Raíz cerca de -130: -126.0\n"
     ]
    }
   ],
   "source": [
    "raices_newton = []\n",
    "estimaciones = [-200, -190, -180, -170, -160, -150, -140, -130, -120, -110, -100, -90, -80, -70, -60, -50, -40, -30, -20, -10, 0]\n",
    "for valor in estimaciones:\n",
    "    try:\n",
    "        raiz_newton = newton(f, valor, fprime)\n",
    "        raiz_newton = round(raiz_newton, 4)\n",
    "        if raiz_newton not in raices_newton:\n",
    "            raices_newton.append(raiz_newton)\n",
    "            print(f'Raíz cerca de {valor}: {raiz_newton}')\n",
    "            continue\n",
    "    except RuntimeError:\n",
    "        print(f'No se encontró raíz con Newton cerca de {valor}')\n",
    "    "
   ]
  },
  {
   "cell_type": "markdown",
   "id": "6b99314c",
   "metadata": {},
   "source": [
    "Para encontrar las raíces usando el método de la bisección, necesitamos identificar intervalos donde la función cambie de signo."
   ]
  },
  {
   "cell_type": "code",
   "execution_count": 41,
   "id": "5995cb0d",
   "metadata": {},
   "outputs": [
    {
     "name": "stdout",
     "output_type": "stream",
     "text": [
      "Intervalos con cambio de signo: [(np.float64(-152.1522), np.float64(-151.952)), (np.float64(-136.1361), np.float64(-135.9359))]\n"
     ]
    }
   ],
   "source": [
    "x = np.linspace(-200, 0, 1000)\n",
    "cambios = []\n",
    "\n",
    "for i in range(len(x)-1):\n",
    "    if f(x[i]) * f(x[i+1]) < 0:\n",
    "        cambios.append((round(x[i],4), round(x[i+1],4)))\n",
    "\n",
    "print(\"Intervalos con cambio de signo:\", cambios)"
   ]
  },
  {
   "cell_type": "code",
   "execution_count": null,
   "id": "211dae4a",
   "metadata": {},
   "outputs": [
    {
     "name": "stdout",
     "output_type": "stream",
     "text": [
      "Raíz encontrada con bisección en el intervalo (-152.1522, -151.952): -152.0\n",
      "Raíz encontrada con bisección en el intervalo (-136.1361, -135.9359): -136.0\n"
     ]
    }
   ],
   "source": [
    "raices_bisect = []\n",
    "for a,b in cambios:\n",
    "    raiz_bisect = bisect(f, a, b)\n",
    "    raiz_bisect = round(raiz_bisect, 4)\n",
    "    if raiz_bisect not in raices_bisect:\n",
    "        raices_bisect.append(raiz_bisect)\n",
    "        print(f'Raíz encontrada en el intervalo ({a}, {b}): {raiz_bisect}')"
   ]
  },
  {
   "cell_type": "markdown",
   "id": "8b50a32d",
   "metadata": {},
   "source": [
    "Finalmente, graficando la función tenemos:"
   ]
  },
  {
   "cell_type": "code",
   "execution_count": null,
   "id": "d7501316",
   "metadata": {},
   "outputs": [
    {
     "data": {
      "image/png": "[encoded data removed]",
      "text/plain": [
       "<Figure size 800x500 with 1 Axes>"
      ]
     },
     "metadata": {},
     "output_type": "display_data"
    }
   ],
   "source": [
    "x = np.linspace(-170, -110, 1000)\n",
    "y = f(x)\n",
    "plt.figure(figsize=(8,5))\n",
    "plt.plot(x, y, color='blue', linestyle='--')\n",
    "plt.title('Función 1')\n",
    "plt.xlabel('x')\n",
    "plt.ylabel('y')\n",
    "plt.axhline(0, color='black')\n",
    "plt.grid(True)\n",
    "plt.show()"
   ]
  },
  {
   "cell_type": "markdown",
   "id": "1e17c40b",
   "metadata": {},
   "source": [
    "## 2) Encuentre todos los puntos en los que la curva $$(\\frac{y}{2})^2 = (\\frac{x+3}{2})^2 - 1$$ interseca el eje $y = -2$\n"
   ]
  },
  {
   "cell_type": "markdown",
   "id": "bf4c97e3",
   "metadata": {},
   "source": [
    "Teniendo esta ecuación podemos reemplazar\n",
    "$$(\\frac{-2}{2})^2 = (\\frac{x+3}{2})^2 - 1$$\n",
    "$$-1^2 = (\\frac{x+3}{2})^2 - 1$$\n",
    "$$2 = (\\frac{x+3}{2})^2 $$\n",
    "$$8 = (x+3)^2 $$\n",
    "$$(x+3)^2 - 8 $$"
   ]
  },
  {
   "cell_type": "markdown",
   "id": "1d7aab03",
   "metadata": {},
   "source": [
    "Con esta nueva función, al encontrar las raices nos dará los puntos en los que interseca al eje y en -2"
   ]
  },
  {
   "cell_type": "code",
   "execution_count": 47,
   "id": "cd4202fe",
   "metadata": {},
   "outputs": [
    {
     "name": "stdout",
     "output_type": "stream",
     "text": [
      "-0.1715728752542418 -5.828427124745758\n"
     ]
    }
   ],
   "source": [
    "import math\n",
    "\n",
    "def g(x): return (x+3)**2 - 8\n",
    "def dg(x): return 2*(x+3)\n",
    "\n",
    "# Bisección (intervalos que aíslan las raíces)\n",
    "def biseccion(f,a,b,tol=1e-12):\n",
    "    if f(a)*f(b) > 0: raise ValueError(\"No hay cambio de signo\")\n",
    "    while (b-a)/2 > tol:\n",
    "        c = (a+b)/2\n",
    "        if f(c) == 0: return c\n",
    "        if f(a)*f(c) < 0: b = c\n",
    "        else: a = c\n",
    "    return (a+b)/2\n",
    "\n",
    "r1 = biseccion(g, -1, 0)    # cerca de -0.1716\n",
    "r2 = biseccion(g, -6, -5)   # cerca de -5.8284\n",
    "print(r1, r2)"
   ]
  }
 ],
 "metadata": {
  "kernelspec": {
   "display_name": "Python 3",
   "language": "python",
   "name": "python3"
  },
  "language_info": {
   "codemirror_mode": {
    "name": "ipython",
    "version": 3
   },
   "file_extension": ".py",
   "mimetype": "text/x-python",
   "name": "python",
   "nbconvert_exporter": "python",
   "pygments_lexer": "ipython3",
   "version": "3.13.6"
  }
 },
 "nbformat": 4,
 "nbformat_minor": 5
}
